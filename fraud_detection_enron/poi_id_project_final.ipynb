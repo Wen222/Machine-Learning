{
 "cells": [
  {
   "cell_type": "code",
   "execution_count": 143,
   "metadata": {
    "collapsed": false
   },
   "outputs": [],
   "source": [
    "#!/usr/bin/python\n",
    "%matplotlib inline\n",
    "\n",
    "import os\n",
    "import sys\n",
    "sys.path.append(\"../../tools/\")\n",
    "import pickle\n",
    "from feature_format import featureFormat, targetFeatureSplit\n",
    "from tester import dump_classifier_and_data\n",
    "from sklearn.cross_validation import train_test_split, StratifiedShuffleSplit\n",
    "import matplotlib.pyplot as plt\n",
    "from operator import itemgetter\n",
    "from sklearn.ensemble import RandomForestClassifier, AdaBoostClassifier, GradientBoostingClassifier\n",
    "from sklearn.tree import DecisionTreeClassifier\n",
    "from sklearn.neighbors import KNeighborsClassifier\n",
    "from sklearn.naive_bayes import GaussianNB\n",
    "from sklearn.svm import SVC\n",
    "from sklearn.grid_search import GridSearchCV\n",
    "from sklearn.pipeline import Pipeline\n",
    "from sklearn.feature_selection import SelectKBest, f_classif\n",
    "from sklearn.preprocessing import StandardScaler\n",
    "from sklearn.preprocessing import scale\n",
    "from sklearn.pipeline import FeatureUnion\n",
    "from sklearn.metrics import classification_report\n",
    "from sklearn.metrics import accuracy_score\n",
    "from sklearn.cluster import KMeans\n",
    "import tester\n",
    "import numpy as np\n",
    "import pandas as pd\n",
    "from time import time"
   ]
  },
  {
   "cell_type": "code",
   "execution_count": 144,
   "metadata": {
    "collapsed": false
   },
   "outputs": [
    {
     "data": {
      "text/plain": [
       "{'bonus': 'NaN',\n",
       " 'deferral_payments': 'NaN',\n",
       " 'deferred_income': 'NaN',\n",
       " 'director_fees': 'NaN',\n",
       " 'email_address': 'NaN',\n",
       " 'exercised_stock_options': 'NaN',\n",
       " 'expenses': 'NaN',\n",
       " 'from_messages': 'NaN',\n",
       " 'from_poi_to_this_person': 'NaN',\n",
       " 'from_this_person_to_poi': 'NaN',\n",
       " 'loan_advances': 'NaN',\n",
       " 'long_term_incentive': 'NaN',\n",
       " 'other': 362096,\n",
       " 'poi': False,\n",
       " 'restricted_stock': 'NaN',\n",
       " 'restricted_stock_deferred': 'NaN',\n",
       " 'salary': 'NaN',\n",
       " 'shared_receipt_with_poi': 'NaN',\n",
       " 'to_messages': 'NaN',\n",
       " 'total_payments': 362096,\n",
       " 'total_stock_value': 'NaN'}"
      ]
     },
     "execution_count": 144,
     "metadata": {},
     "output_type": "execute_result"
    }
   ],
   "source": [
    "# Load data and store as pandas dataframe\n",
    "\n",
    "with open(\"final_project_dataset.pkl\", \"r\") as data_file:\n",
    "    data_dict = pickle.load(data_file)\n",
    "\n",
    "# Remove outlier\n",
    "data_dict.pop('TOTAL', 0)\n",
    "data_dict.pop('THE TRAVEL AGENCY IN THE PARK', 0)"
   ]
  },
  {
   "cell_type": "code",
   "execution_count": 145,
   "metadata": {
    "collapsed": false
   },
   "outputs": [
    {
     "name": "stdout",
     "output_type": "stream",
     "text": [
      "(144, 21)\n"
     ]
    }
   ],
   "source": [
    "df = pd.DataFrame(data_dict).T\n",
    "#df = df.apply(pd.to_numeric)\n",
    "print df.shape"
   ]
  },
  {
   "cell_type": "code",
   "execution_count": 146,
   "metadata": {
    "collapsed": false
   },
   "outputs": [
    {
     "name": "stdout",
     "output_type": "stream",
     "text": [
      "<class 'pandas.core.frame.DataFrame'>\n",
      "Index: 144 entries, ALLEN PHILLIP K to YEAP SOON\n",
      "Data columns (total 21 columns):\n",
      "bonus                        144 non-null object\n",
      "deferral_payments            144 non-null object\n",
      "deferred_income              144 non-null object\n",
      "director_fees                144 non-null object\n",
      "email_address                144 non-null object\n",
      "exercised_stock_options      144 non-null object\n",
      "expenses                     144 non-null object\n",
      "from_messages                144 non-null object\n",
      "from_poi_to_this_person      144 non-null object\n",
      "from_this_person_to_poi      144 non-null object\n",
      "loan_advances                144 non-null object\n",
      "long_term_incentive          144 non-null object\n",
      "other                        144 non-null object\n",
      "poi                          144 non-null object\n",
      "restricted_stock             144 non-null object\n",
      "restricted_stock_deferred    144 non-null object\n",
      "salary                       144 non-null object\n",
      "shared_receipt_with_poi      144 non-null object\n",
      "to_messages                  144 non-null object\n",
      "total_payments               144 non-null object\n",
      "total_stock_value            144 non-null object\n",
      "dtypes: object(21)\n",
      "memory usage: 24.8+ KB\n"
     ]
    }
   ],
   "source": [
    "df.info()"
   ]
  },
  {
   "cell_type": "code",
   "execution_count": 147,
   "metadata": {
    "collapsed": false
   },
   "outputs": [],
   "source": [
    "df['bonus'] = df['bonus'].astype('float64')\n",
    "df['deferral_payments'] = df['deferral_payments'].astype('float64')\n",
    "df['deferred_income'] = df['deferred_income'].astype('float64')\n",
    "df['director_fees'] = df['director_fees'].astype('float64')\n",
    "df['email_address'] = df['bonus'].astype('str')\n",
    "df['exercised_stock_options'] = df['exercised_stock_options'].astype('float64')\n",
    "df['expenses'] = df['expenses'].astype('float64')\n",
    "df['from_messages'] = df['from_messages'].astype('float64')\n",
    "df['from_poi_to_this_person'] = df['from_poi_to_this_person'].astype('float64')\n",
    "df['from_this_person_to_poi'] = df['from_this_person_to_poi'].astype('float64')\n",
    "df['loan_advances'] = df['loan_advances'].astype('float64')\n",
    "df['long_term_incentive'] = df['long_term_incentive'].astype('float64')\n",
    "df['other'] = df['other'].astype('float64')\n",
    "df['poi'] = df['poi'].astype('bool')\n",
    "df['restricted_stock'] = df['restricted_stock'].astype('float64')\n",
    "df['restricted_stock_deferred'] = df['restricted_stock_deferred'].astype('float64')\n",
    "df['salary'] = df['salary'].astype('float64')\n",
    "df['shared_receipt_with_poi'] = df['shared_receipt_with_poi'].astype('float64')\n",
    "df['to_messages'] = df['to_messages'].astype('float64')\n",
    "df['total_payments'] = df['total_payments'].astype('float64')\n",
    "df['total_stock_value'] = df['total_stock_value'].astype('float64')"
   ]
  },
  {
   "cell_type": "code",
   "execution_count": 148,
   "metadata": {
    "collapsed": false
   },
   "outputs": [
    {
     "name": "stdout",
     "output_type": "stream",
     "text": [
      "bonus                        float64\n",
      "deferral_payments            float64\n",
      "deferred_income              float64\n",
      "director_fees                float64\n",
      "email_address                 object\n",
      "exercised_stock_options      float64\n",
      "expenses                     float64\n",
      "from_messages                float64\n",
      "from_poi_to_this_person      float64\n",
      "from_this_person_to_poi      float64\n",
      "loan_advances                float64\n",
      "long_term_incentive          float64\n",
      "other                        float64\n",
      "poi                             bool\n",
      "restricted_stock             float64\n",
      "restricted_stock_deferred    float64\n",
      "salary                       float64\n",
      "shared_receipt_with_poi      float64\n",
      "to_messages                  float64\n",
      "total_payments               float64\n",
      "total_stock_value            float64\n",
      "dtype: object\n"
     ]
    }
   ],
   "source": [
    "print df.dtypes"
   ]
  },
  {
   "cell_type": "code",
   "execution_count": 149,
   "metadata": {
    "collapsed": false
   },
   "outputs": [
    {
     "data": {
      "text/html": [
       "<div>\n",
       "<table border=\"1\" class=\"dataframe\">\n",
       "  <thead>\n",
       "    <tr style=\"text-align: right;\">\n",
       "      <th></th>\n",
       "      <th>bonus</th>\n",
       "      <th>deferral_payments</th>\n",
       "      <th>deferred_income</th>\n",
       "      <th>director_fees</th>\n",
       "      <th>exercised_stock_options</th>\n",
       "      <th>expenses</th>\n",
       "      <th>from_messages</th>\n",
       "      <th>from_poi_to_this_person</th>\n",
       "      <th>from_this_person_to_poi</th>\n",
       "      <th>loan_advances</th>\n",
       "      <th>long_term_incentive</th>\n",
       "      <th>other</th>\n",
       "      <th>restricted_stock</th>\n",
       "      <th>restricted_stock_deferred</th>\n",
       "      <th>salary</th>\n",
       "      <th>shared_receipt_with_poi</th>\n",
       "      <th>to_messages</th>\n",
       "      <th>total_payments</th>\n",
       "      <th>total_stock_value</th>\n",
       "    </tr>\n",
       "  </thead>\n",
       "  <tbody>\n",
       "    <tr>\n",
       "      <th>count</th>\n",
       "      <td>8.100000e+01</td>\n",
       "      <td>3.800000e+01</td>\n",
       "      <td>4.800000e+01</td>\n",
       "      <td>16.000000</td>\n",
       "      <td>1.010000e+02</td>\n",
       "      <td>94.000000</td>\n",
       "      <td>86.000000</td>\n",
       "      <td>86.000000</td>\n",
       "      <td>86.000000</td>\n",
       "      <td>3.000000e+00</td>\n",
       "      <td>6.500000e+01</td>\n",
       "      <td>9.100000e+01</td>\n",
       "      <td>1.090000e+02</td>\n",
       "      <td>1.700000e+01</td>\n",
       "      <td>9.400000e+01</td>\n",
       "      <td>86.000000</td>\n",
       "      <td>86.000000</td>\n",
       "      <td>1.230000e+02</td>\n",
       "      <td>1.250000e+02</td>\n",
       "    </tr>\n",
       "    <tr>\n",
       "      <th>mean</th>\n",
       "      <td>1.201773e+06</td>\n",
       "      <td>8.416025e+05</td>\n",
       "      <td>-5.810498e+05</td>\n",
       "      <td>89822.875000</td>\n",
       "      <td>2.959559e+06</td>\n",
       "      <td>54192.010638</td>\n",
       "      <td>608.790698</td>\n",
       "      <td>64.895349</td>\n",
       "      <td>41.232558</td>\n",
       "      <td>2.797500e+07</td>\n",
       "      <td>7.464912e+05</td>\n",
       "      <td>4.664105e+05</td>\n",
       "      <td>1.147424e+06</td>\n",
       "      <td>6.218928e+05</td>\n",
       "      <td>2.840875e+05</td>\n",
       "      <td>1176.465116</td>\n",
       "      <td>2073.860465</td>\n",
       "      <td>2.641806e+06</td>\n",
       "      <td>3.352073e+06</td>\n",
       "    </tr>\n",
       "    <tr>\n",
       "      <th>std</th>\n",
       "      <td>1.441679e+06</td>\n",
       "      <td>1.289323e+06</td>\n",
       "      <td>9.420764e+05</td>\n",
       "      <td>41112.700735</td>\n",
       "      <td>5.499450e+06</td>\n",
       "      <td>46108.377454</td>\n",
       "      <td>1841.033949</td>\n",
       "      <td>86.979244</td>\n",
       "      <td>100.073111</td>\n",
       "      <td>4.638256e+07</td>\n",
       "      <td>8.629174e+05</td>\n",
       "      <td>1.397376e+06</td>\n",
       "      <td>2.249770e+06</td>\n",
       "      <td>3.845528e+06</td>\n",
       "      <td>1.771311e+05</td>\n",
       "      <td>1178.317641</td>\n",
       "      <td>2582.700981</td>\n",
       "      <td>9.524694e+06</td>\n",
       "      <td>6.532883e+06</td>\n",
       "    </tr>\n",
       "    <tr>\n",
       "      <th>min</th>\n",
       "      <td>7.000000e+04</td>\n",
       "      <td>-1.025000e+05</td>\n",
       "      <td>-3.504386e+06</td>\n",
       "      <td>3285.000000</td>\n",
       "      <td>3.285000e+03</td>\n",
       "      <td>148.000000</td>\n",
       "      <td>12.000000</td>\n",
       "      <td>0.000000</td>\n",
       "      <td>0.000000</td>\n",
       "      <td>4.000000e+05</td>\n",
       "      <td>6.922300e+04</td>\n",
       "      <td>2.000000e+00</td>\n",
       "      <td>-2.604490e+06</td>\n",
       "      <td>-1.787380e+06</td>\n",
       "      <td>4.770000e+02</td>\n",
       "      <td>2.000000</td>\n",
       "      <td>57.000000</td>\n",
       "      <td>1.480000e+02</td>\n",
       "      <td>-4.409300e+04</td>\n",
       "    </tr>\n",
       "    <tr>\n",
       "      <th>25%</th>\n",
       "      <td>4.250000e+05</td>\n",
       "      <td>7.964450e+04</td>\n",
       "      <td>-6.112092e+05</td>\n",
       "      <td>83674.500000</td>\n",
       "      <td>5.067650e+05</td>\n",
       "      <td>22479.000000</td>\n",
       "      <td>22.750000</td>\n",
       "      <td>10.000000</td>\n",
       "      <td>1.000000</td>\n",
       "      <td>1.200000e+06</td>\n",
       "      <td>2.750000e+05</td>\n",
       "      <td>1.203000e+03</td>\n",
       "      <td>2.520550e+05</td>\n",
       "      <td>-3.298250e+05</td>\n",
       "      <td>2.118020e+05</td>\n",
       "      <td>249.750000</td>\n",
       "      <td>541.250000</td>\n",
       "      <td>3.969340e+05</td>\n",
       "      <td>4.941360e+05</td>\n",
       "    </tr>\n",
       "    <tr>\n",
       "      <th>50%</th>\n",
       "      <td>7.500000e+05</td>\n",
       "      <td>2.210635e+05</td>\n",
       "      <td>-1.519270e+05</td>\n",
       "      <td>106164.500000</td>\n",
       "      <td>1.297049e+06</td>\n",
       "      <td>46547.500000</td>\n",
       "      <td>41.000000</td>\n",
       "      <td>35.000000</td>\n",
       "      <td>8.000000</td>\n",
       "      <td>2.000000e+06</td>\n",
       "      <td>4.221580e+05</td>\n",
       "      <td>5.158700e+04</td>\n",
       "      <td>4.410960e+05</td>\n",
       "      <td>-1.402640e+05</td>\n",
       "      <td>2.587410e+05</td>\n",
       "      <td>740.500000</td>\n",
       "      <td>1211.000000</td>\n",
       "      <td>1.101393e+06</td>\n",
       "      <td>1.095040e+06</td>\n",
       "    </tr>\n",
       "    <tr>\n",
       "      <th>75%</th>\n",
       "      <td>1.200000e+06</td>\n",
       "      <td>8.672112e+05</td>\n",
       "      <td>-3.792600e+04</td>\n",
       "      <td>112815.000000</td>\n",
       "      <td>2.542813e+06</td>\n",
       "      <td>78408.500000</td>\n",
       "      <td>145.500000</td>\n",
       "      <td>72.250000</td>\n",
       "      <td>24.750000</td>\n",
       "      <td>4.176250e+07</td>\n",
       "      <td>8.318090e+05</td>\n",
       "      <td>3.319830e+05</td>\n",
       "      <td>9.850320e+05</td>\n",
       "      <td>-7.241900e+04</td>\n",
       "      <td>3.086065e+05</td>\n",
       "      <td>1888.250000</td>\n",
       "      <td>2634.750000</td>\n",
       "      <td>2.087530e+06</td>\n",
       "      <td>2.606763e+06</td>\n",
       "    </tr>\n",
       "    <tr>\n",
       "      <th>max</th>\n",
       "      <td>8.000000e+06</td>\n",
       "      <td>6.426990e+06</td>\n",
       "      <td>-8.330000e+02</td>\n",
       "      <td>137864.000000</td>\n",
       "      <td>3.434838e+07</td>\n",
       "      <td>228763.000000</td>\n",
       "      <td>14368.000000</td>\n",
       "      <td>528.000000</td>\n",
       "      <td>609.000000</td>\n",
       "      <td>8.152500e+07</td>\n",
       "      <td>5.145434e+06</td>\n",
       "      <td>1.035973e+07</td>\n",
       "      <td>1.476169e+07</td>\n",
       "      <td>1.545629e+07</td>\n",
       "      <td>1.111258e+06</td>\n",
       "      <td>5521.000000</td>\n",
       "      <td>15149.000000</td>\n",
       "      <td>1.035598e+08</td>\n",
       "      <td>4.911008e+07</td>\n",
       "    </tr>\n",
       "  </tbody>\n",
       "</table>\n",
       "</div>"
      ],
      "text/plain": [
       "              bonus  deferral_payments  deferred_income  director_fees  \\\n",
       "count  8.100000e+01       3.800000e+01     4.800000e+01      16.000000   \n",
       "mean   1.201773e+06       8.416025e+05    -5.810498e+05   89822.875000   \n",
       "std    1.441679e+06       1.289323e+06     9.420764e+05   41112.700735   \n",
       "min    7.000000e+04      -1.025000e+05    -3.504386e+06    3285.000000   \n",
       "25%    4.250000e+05       7.964450e+04    -6.112092e+05   83674.500000   \n",
       "50%    7.500000e+05       2.210635e+05    -1.519270e+05  106164.500000   \n",
       "75%    1.200000e+06       8.672112e+05    -3.792600e+04  112815.000000   \n",
       "max    8.000000e+06       6.426990e+06    -8.330000e+02  137864.000000   \n",
       "\n",
       "       exercised_stock_options       expenses  from_messages  \\\n",
       "count             1.010000e+02      94.000000      86.000000   \n",
       "mean              2.959559e+06   54192.010638     608.790698   \n",
       "std               5.499450e+06   46108.377454    1841.033949   \n",
       "min               3.285000e+03     148.000000      12.000000   \n",
       "25%               5.067650e+05   22479.000000      22.750000   \n",
       "50%               1.297049e+06   46547.500000      41.000000   \n",
       "75%               2.542813e+06   78408.500000     145.500000   \n",
       "max               3.434838e+07  228763.000000   14368.000000   \n",
       "\n",
       "       from_poi_to_this_person  from_this_person_to_poi  loan_advances  \\\n",
       "count                86.000000                86.000000   3.000000e+00   \n",
       "mean                 64.895349                41.232558   2.797500e+07   \n",
       "std                  86.979244               100.073111   4.638256e+07   \n",
       "min                   0.000000                 0.000000   4.000000e+05   \n",
       "25%                  10.000000                 1.000000   1.200000e+06   \n",
       "50%                  35.000000                 8.000000   2.000000e+06   \n",
       "75%                  72.250000                24.750000   4.176250e+07   \n",
       "max                 528.000000               609.000000   8.152500e+07   \n",
       "\n",
       "       long_term_incentive         other  restricted_stock  \\\n",
       "count         6.500000e+01  9.100000e+01      1.090000e+02   \n",
       "mean          7.464912e+05  4.664105e+05      1.147424e+06   \n",
       "std           8.629174e+05  1.397376e+06      2.249770e+06   \n",
       "min           6.922300e+04  2.000000e+00     -2.604490e+06   \n",
       "25%           2.750000e+05  1.203000e+03      2.520550e+05   \n",
       "50%           4.221580e+05  5.158700e+04      4.410960e+05   \n",
       "75%           8.318090e+05  3.319830e+05      9.850320e+05   \n",
       "max           5.145434e+06  1.035973e+07      1.476169e+07   \n",
       "\n",
       "       restricted_stock_deferred        salary  shared_receipt_with_poi  \\\n",
       "count               1.700000e+01  9.400000e+01                86.000000   \n",
       "mean                6.218928e+05  2.840875e+05              1176.465116   \n",
       "std                 3.845528e+06  1.771311e+05              1178.317641   \n",
       "min                -1.787380e+06  4.770000e+02                 2.000000   \n",
       "25%                -3.298250e+05  2.118020e+05               249.750000   \n",
       "50%                -1.402640e+05  2.587410e+05               740.500000   \n",
       "75%                -7.241900e+04  3.086065e+05              1888.250000   \n",
       "max                 1.545629e+07  1.111258e+06              5521.000000   \n",
       "\n",
       "        to_messages  total_payments  total_stock_value  \n",
       "count     86.000000    1.230000e+02       1.250000e+02  \n",
       "mean    2073.860465    2.641806e+06       3.352073e+06  \n",
       "std     2582.700981    9.524694e+06       6.532883e+06  \n",
       "min       57.000000    1.480000e+02      -4.409300e+04  \n",
       "25%      541.250000    3.969340e+05       4.941360e+05  \n",
       "50%     1211.000000    1.101393e+06       1.095040e+06  \n",
       "75%     2634.750000    2.087530e+06       2.606763e+06  \n",
       "max    15149.000000    1.035598e+08       4.911008e+07  "
      ]
     },
     "execution_count": 149,
     "metadata": {},
     "output_type": "execute_result"
    }
   ],
   "source": [
    "df.describe()"
   ]
  },
  {
   "cell_type": "code",
   "execution_count": 150,
   "metadata": {
    "collapsed": false
   },
   "outputs": [
    {
     "data": {
      "text/plain": [
       "bonus                        0.437500\n",
       "deferral_payments            0.736111\n",
       "deferred_income              0.666667\n",
       "director_fees                0.888889\n",
       "email_address                0.000000\n",
       "exercised_stock_options      0.298611\n",
       "expenses                     0.347222\n",
       "from_messages                0.402778\n",
       "from_poi_to_this_person      0.402778\n",
       "from_this_person_to_poi      0.402778\n",
       "loan_advances                0.979167\n",
       "long_term_incentive          0.548611\n",
       "other                        0.368056\n",
       "poi                          0.000000\n",
       "restricted_stock             0.243056\n",
       "restricted_stock_deferred    0.881944\n",
       "salary                       0.347222\n",
       "shared_receipt_with_poi      0.402778\n",
       "to_messages                  0.402778\n",
       "total_payments               0.145833\n",
       "total_stock_value            0.131944\n",
       "dtype: float64"
      ]
     },
     "execution_count": 150,
     "metadata": {},
     "output_type": "execute_result"
    }
   ],
   "source": [
    "1-df.count()/144"
   ]
  },
  {
   "cell_type": "code",
   "execution_count": 151,
   "metadata": {
    "collapsed": false
   },
   "outputs": [],
   "source": [
    "payment_fields = ['salary',\n",
    "                  'bonus', \n",
    "                  'long_term_incentive', \n",
    "                  'deferred_income',\n",
    "                  'deferral_payments',\n",
    "                  'loan_advances',\n",
    "                  'other',\n",
    "                  'expenses',\n",
    "                  'director_fees',\n",
    "                  'total_payments']\n",
    "\n",
    "stock_fields = ['exercised_stock_options',\n",
    "                'restricted_stock',\n",
    "                'restricted_stock_deferred',\n",
    "                'total_stock_value']\n",
    "\n",
    "email_data = ['from_messages',\n",
    "              'from_poi_to_this_person',\n",
    "              'from_this_person_to_poi',\n",
    "              'shared_receipt_with_poi',\n",
    "              'to_messages']\n",
    "df[payment_fields] = df[payment_fields].fillna(0)\n",
    "df[stock_fields] = df[stock_fields].fillna(0)\n",
    "\n",
    "from sklearn.preprocessing import Imputer\n",
    "\n",
    "imp = Imputer(missing_values = 'NaN', strategy = 'mean', axis = 0)\n",
    "df_poi = df[df['poi'] == True]\n",
    "df_nonpoi = df[df['poi'] == False]\n",
    "\n",
    "df_poi.ix[:,email_data] = imp.fit_transform(df_poi.ix[:,email_data]);\n",
    "df_nonpoi.ix[:,email_data] = imp.fit_transform(df_nonpoi.ix[:,email_data]);\n",
    "\n",
    "df = df_poi.append(df_nonpoi)"
   ]
  },
  {
   "cell_type": "code",
   "execution_count": 152,
   "metadata": {
    "collapsed": false
   },
   "outputs": [
    {
     "data": {
      "text/plain": [
       "bonus                        0.0\n",
       "deferral_payments            0.0\n",
       "deferred_income              0.0\n",
       "director_fees                0.0\n",
       "email_address                0.0\n",
       "exercised_stock_options      0.0\n",
       "expenses                     0.0\n",
       "from_messages                0.0\n",
       "from_poi_to_this_person      0.0\n",
       "from_this_person_to_poi      0.0\n",
       "loan_advances                0.0\n",
       "long_term_incentive          0.0\n",
       "other                        0.0\n",
       "poi                          0.0\n",
       "restricted_stock             0.0\n",
       "restricted_stock_deferred    0.0\n",
       "salary                       0.0\n",
       "shared_receipt_with_poi      0.0\n",
       "to_messages                  0.0\n",
       "total_payments               0.0\n",
       "total_stock_value            0.0\n",
       "dtype: float64"
      ]
     },
     "execution_count": 152,
     "metadata": {},
     "output_type": "execute_result"
    }
   ],
   "source": [
    "1-df.count()/144"
   ]
  },
  {
   "cell_type": "code",
   "execution_count": 153,
   "metadata": {
    "collapsed": true
   },
   "outputs": [],
   "source": [
    "# First include all relevent features\n",
    "features_list = ['poi',\n",
    "                 'bonus',\n",
    "                 'salary',\n",
    "                 'deferral_payments',\n",
    "                 'deferred_income',\n",
    "                 'director_fees',\n",
    "                 'exercised_stock_options',\n",
    "                 'expenses',\n",
    "                 'from_messages',\n",
    "                 'from_poi_to_this_person',\n",
    "                 'from_this_person_to_poi',\n",
    "                 'loan_advances',\n",
    "                 'long_term_incentive',\n",
    "                 'other', \n",
    "                 'restricted_stock',\n",
    "                 'restricted_stock_deferred', \n",
    "                 'shared_receipt_with_poi',\n",
    "                 'to_messages', \n",
    "                 'total_payments', \n",
    "                 'total_stock_value']"
   ]
  },
  {
   "cell_type": "code",
   "execution_count": 154,
   "metadata": {
    "collapsed": false
   },
   "outputs": [],
   "source": [
    "# Seperate labels and features\n",
    "data_dict_cleaned = df.to_dict(orient = 'index')\n",
    "my_dataset = df.to_dict(orient = 'index')\n",
    "#my_dataset = data_dict\n",
    "data = featureFormat(my_dataset, features_list)\n",
    "labels, features = targetFeatureSplit(data)"
   ]
  },
  {
   "cell_type": "code",
   "execution_count": 155,
   "metadata": {
    "collapsed": true
   },
   "outputs": [],
   "source": [
    "# We use StratifiedShuffleSplit because the dataset is small and unbalanced\n",
    "\n",
    "cv = StratifiedShuffleSplit(labels, n_iter=100, test_size=0.75, random_state = 42)\n",
    "for train_index, test_index in cv:\n",
    "    X_train = []\n",
    "    X_test = []\n",
    "    y_train = []\n",
    "    y_test = []\n",
    "    for ii in train_index:\n",
    "        X_train.append( features[ii] )\n",
    "        y_train.append( labels[ii] )\n",
    "    for jj in test_index:\n",
    "        X_test.append( features[jj] )\n",
    "        y_test.append( labels[jj] )"
   ]
  },
  {
   "cell_type": "code",
   "execution_count": 156,
   "metadata": {
    "collapsed": false
   },
   "outputs": [
    {
     "name": "stdout",
     "output_type": "stream",
     "text": [
      "Accuracy:  0.851851851852\n",
      "Algorithm time: 0.002 s\n",
      "             precision    recall  f1-score   support\n",
      "\n",
      "        0.0       0.88      0.96      0.92        94\n",
      "        1.0       0.33      0.14      0.20        14\n",
      "\n",
      "avg / total       0.81      0.85      0.83       108\n",
      "\n"
     ]
    }
   ],
   "source": [
    "def classifiers_cv(clf_type,labels_train,features_train,labels_test,features_test):\n",
    "    \n",
    "    t0 = time()\n",
    "    if clf_type == 'NB':\n",
    "        clf = GaussianNB()\n",
    "    elif clf_type == 'DT':\n",
    "        clf = DecisionTreeClassifier()\n",
    "    elif clf_type == 'KM':\n",
    "        clf = KMeans(n_clusters=2)\n",
    "    elif clf_type == 'AB':\n",
    "        clf = AdaBoostClassifier()\n",
    "    else:\n",
    "        print 'Cannot identify classifier'\n",
    "        \n",
    "    clf.fit(features_train, labels_train)\n",
    "    pred = clf.predict(features_test)\n",
    "    accuracy = accuracy_score(pred,labels_test)\n",
    "    print \"Accuracy: \", accuracy\n",
    "    print \"Algorithm time:\", round(time()-t0, 3), \"s\"\n",
    "\n",
    "    report = classification_report(labels_test, pred)\n",
    "    \n",
    "    print report\n",
    "    \n",
    "    \n",
    "# Try Decision Tree Classifier with cross validation\n",
    "classifiers_cv('DT',y_train, X_train, y_test,X_test)"
   ]
  },
  {
   "cell_type": "code",
   "execution_count": 157,
   "metadata": {
    "collapsed": false
   },
   "outputs": [
    {
     "name": "stdout",
     "output_type": "stream",
     "text": [
      "Accuracy:  0.851851851852\n",
      "Algorithm time: 0.004 s\n",
      "             precision    recall  f1-score   support\n",
      "\n",
      "        0.0       0.89      0.95      0.92        94\n",
      "        1.0       0.38      0.21      0.27        14\n",
      "\n",
      "avg / total       0.82      0.85      0.83       108\n",
      "\n"
     ]
    }
   ],
   "source": [
    "# Try Naive Bayes Classifier with cross validation\n",
    "classifiers_cv('NB',y_train, X_train, y_test,X_test)"
   ]
  },
  {
   "cell_type": "code",
   "execution_count": 158,
   "metadata": {
    "collapsed": false
   },
   "outputs": [
    {
     "name": "stdout",
     "output_type": "stream",
     "text": [
      "Accuracy:  0.87962962963\n",
      "Algorithm time: 0.178 s\n",
      "             precision    recall  f1-score   support\n",
      "\n",
      "        0.0       0.94      0.93      0.93        94\n",
      "        1.0       0.53      0.57      0.55        14\n",
      "\n",
      "avg / total       0.88      0.88      0.88       108\n",
      "\n"
     ]
    }
   ],
   "source": [
    "# Try AdaBooster Classifier with cross validation\n",
    "classifiers_cv('AB',y_train, X_train, y_test,X_test)"
   ]
  },
  {
   "cell_type": "code",
   "execution_count": 159,
   "metadata": {
    "collapsed": false
   },
   "outputs": [
    {
     "name": "stdout",
     "output_type": "stream",
     "text": [
      "Accuracy:  0.87037037037\n",
      "Algorithm time: 0.014 s\n",
      "             precision    recall  f1-score   support\n",
      "\n",
      "        0.0       0.87      1.00      0.93        94\n",
      "        1.0       0.00      0.00      0.00        14\n",
      "\n",
      "avg / total       0.76      0.87      0.81       108\n",
      "\n"
     ]
    }
   ],
   "source": [
    "# Try KMeans Classifier with cross validation\n",
    "classifiers_cv('KM',y_train, X_train, y_test,X_test)"
   ]
  },
  {
   "cell_type": "code",
   "execution_count": 160,
   "metadata": {
    "collapsed": false
   },
   "outputs": [
    {
     "name": "stdout",
     "output_type": "stream",
     "text": [
      "GaussianNB(priors=None)\n",
      "\tAccuracy: 0.74953\tPrecision: 0.23642\tRecall: 0.39400\tF1: 0.29552\tF2: 0.34766\n",
      "\tTotal predictions: 15000\tTrue positives:  788\tFalse positives: 2545\tFalse negatives: 1212\tTrue negatives: 10455\n",
      "\n"
     ]
    }
   ],
   "source": [
    "# Test on Naive Bayes\n",
    "clf = GaussianNB()\n",
    "tester.dump_classifier_and_data(clf,my_dataset,features_list)\n",
    "tester.main();"
   ]
  },
  {
   "cell_type": "code",
   "execution_count": 161,
   "metadata": {
    "collapsed": false
   },
   "outputs": [
    {
     "name": "stdout",
     "output_type": "stream",
     "text": [
      "DecisionTreeClassifier(class_weight=None, criterion='gini', max_depth=None,\n",
      "            max_features=None, max_leaf_nodes=None,\n",
      "            min_impurity_decrease=0.0, min_impurity_split=None,\n",
      "            min_samples_leaf=1, min_samples_split=2,\n",
      "            min_weight_fraction_leaf=0.0, presort=False, random_state=None,\n",
      "            splitter='best')\n",
      "\tAccuracy: 0.81887\tPrecision: 0.32452\tRecall: 0.33150\tF1: 0.32797\tF2: 0.33008\n",
      "\tTotal predictions: 15000\tTrue positives:  663\tFalse positives: 1380\tFalse negatives: 1337\tTrue negatives: 11620\n",
      "\n"
     ]
    }
   ],
   "source": [
    "# Test on Decision Tree Classifier\n",
    "clf = DecisionTreeClassifier()\n",
    "tester.dump_classifier_and_data(clf,my_dataset,features_list)\n",
    "tester.main();"
   ]
  },
  {
   "cell_type": "code",
   "execution_count": 162,
   "metadata": {
    "collapsed": false
   },
   "outputs": [
    {
     "name": "stdout",
     "output_type": "stream",
     "text": [
      "KMeans(algorithm='auto', copy_x=True, init='k-means++', max_iter=300,\n",
      "    n_clusters=2, n_init=10, n_jobs=1, precompute_distances='auto',\n",
      "    random_state=None, tol=0.0001, verbose=0)\n",
      "\tAccuracy: 0.83033\tPrecision: 0.22108\tRecall: 0.10800\tF1: 0.14511\tF2: 0.12031\n",
      "\tTotal predictions: 15000\tTrue positives:  216\tFalse positives:  761\tFalse negatives: 1784\tTrue negatives: 12239\n",
      "\n"
     ]
    }
   ],
   "source": [
    "# Test on KMeans\n",
    "clf = KMeans(n_clusters = 2)\n",
    "tester.dump_classifier_and_data(clf,my_dataset,features_list)\n",
    "tester.main();"
   ]
  },
  {
   "cell_type": "code",
   "execution_count": 163,
   "metadata": {
    "collapsed": false
   },
   "outputs": [
    {
     "data": {
      "text/plain": [
       "False    126\n",
       "True      18\n",
       "Name: poi, dtype: int64"
      ]
     },
     "execution_count": 163,
     "metadata": {},
     "output_type": "execute_result"
    }
   ],
   "source": [
    "# Scale features\n",
    "\n",
    "#df = pd.DataFrame(data,columns = features_list)\n",
    "#df.replace('NaN', np.nan, inplace=True)\n",
    "#print df.shape\n",
    "\n",
    "scaled_df = df[features_list].copy()\n",
    "scaled_df.ix[:,1:]=scale(scaled_df.ix[:,1:])\n",
    "my_dataset = scaled_df.to_dict(orient = 'index')\n",
    "\n",
    "scaled_df['poi'].value_counts()"
   ]
  },
  {
   "cell_type": "code",
   "execution_count": 164,
   "metadata": {
    "collapsed": false
   },
   "outputs": [
    {
     "name": "stdout",
     "output_type": "stream",
     "text": [
      "GaussianNB(priors=None)\n",
      "\tAccuracy: 0.40847\tPrecision: 0.16160\tRecall: 0.82050\tF1: 0.27001\tF2: 0.45194\n",
      "\tTotal predictions: 15000\tTrue positives: 1641\tFalse positives: 8514\tFalse negatives:  359\tTrue negatives: 4486\n",
      "\n"
     ]
    }
   ],
   "source": [
    "# Test on Naive Bayes\n",
    "clf = GaussianNB()\n",
    "tester.dump_classifier_and_data(clf,my_dataset,features_list)\n",
    "tester.main();"
   ]
  },
  {
   "cell_type": "code",
   "execution_count": 165,
   "metadata": {
    "collapsed": false
   },
   "outputs": [
    {
     "name": "stdout",
     "output_type": "stream",
     "text": [
      "DecisionTreeClassifier(class_weight=None, criterion='gini', max_depth=None,\n",
      "            max_features=None, max_leaf_nodes=None,\n",
      "            min_impurity_decrease=0.0, min_impurity_split=None,\n",
      "            min_samples_leaf=1, min_samples_split=2,\n",
      "            min_weight_fraction_leaf=0.0, presort=False, random_state=None,\n",
      "            splitter='best')\n",
      "\tAccuracy: 0.81993\tPrecision: 0.32725\tRecall: 0.33200\tF1: 0.32961\tF2: 0.33104\n",
      "\tTotal predictions: 15000\tTrue positives:  664\tFalse positives: 1365\tFalse negatives: 1336\tTrue negatives: 11635\n",
      "\n"
     ]
    }
   ],
   "source": [
    "# Test on Decision Tree Classifier\n",
    "clf = DecisionTreeClassifier()\n",
    "tester.dump_classifier_and_data(clf,my_dataset,features_list)\n",
    "tester.main();"
   ]
  },
  {
   "cell_type": "code",
   "execution_count": 166,
   "metadata": {
    "collapsed": false
   },
   "outputs": [
    {
     "name": "stdout",
     "output_type": "stream",
     "text": [
      "KMeans(algorithm='auto', copy_x=True, init='k-means++', max_iter=300,\n",
      "    n_clusters=2, n_init=10, n_jobs=1, precompute_distances='auto',\n",
      "    random_state=None, tol=0.0001, verbose=0)\n",
      "\tAccuracy: 0.81060\tPrecision: 0.16333\tRecall: 0.10200\tF1: 0.12558\tF2: 0.11028\n",
      "\tTotal predictions: 15000\tTrue positives:  204\tFalse positives: 1045\tFalse negatives: 1796\tTrue negatives: 11955\n",
      "\n"
     ]
    }
   ],
   "source": [
    "# Test on KMeans\n",
    "clf = KMeans(n_clusters = 2)\n",
    "tester.dump_classifier_and_data(clf,my_dataset,features_list)\n",
    "tester.main();"
   ]
  },
  {
   "cell_type": "code",
   "execution_count": 167,
   "metadata": {
    "collapsed": false
   },
   "outputs": [
    {
     "name": "stdout",
     "output_type": "stream",
     "text": [
      "['poi', 'bonus', 'salary', 'deferral_payments', 'deferred_income', 'director_fees', 'exercised_stock_options', 'expenses', 'from_messages', 'from_poi_to_this_person', 'from_this_person_to_poi', 'loan_advances', 'long_term_incentive', 'other', 'restricted_stock', 'restricted_stock_deferred', 'shared_receipt_with_poi', 'to_messages', 'total_payments', 'total_stock_value', 'from_poi_ratio', 'to_poi_ratio', 'shared_poi_ratio', 'bonus_salary_ratio', 'bonus_ratio']\n"
     ]
    }
   ],
   "source": [
    "# Create new features\n",
    "for v in data_dict_cleaned.values():\n",
    "    from_poi_to_this_person = v[\"from_poi_to_this_person\"]\n",
    "    to_messages = v[\"to_messages\"]\n",
    "    from_this_person_to_poi = v[\"from_this_person_to_poi\"]\n",
    "    from_messages = v[\"from_messages\"]\n",
    "    shared_receipt_with_poi = v['shared_receipt_with_poi']\n",
    "    bonus = v['bonus']\n",
    "    salary = v['salary']\n",
    "    total_payments = v['total_payments']\n",
    "\n",
    "    v[\"from_poi_ratio\"] = (float(from_poi_to_this_person) / float(to_messages) if\n",
    "                           to_messages not in [0, \"NaN\"] and from_poi_to_this_person\n",
    "                           not in [0, \"NaN\"] else 0.0)\n",
    "    v[\"to_poi_ratio\"] = (float(from_this_person_to_poi) / float(from_messages) if\n",
    "                         from_messages not in [0, \"NaN\"] and from_this_person_to_poi\n",
    "                         not in [0, \"NaN\"] else 0.0)\n",
    "    v[\"shared_poi_ratio\"] = (float(shared_receipt_with_poi) / float(to_messages) if\n",
    "                         to_messages not in [0, \"NaN\"] and shared_receipt_with_poi\n",
    "                         not in [0, \"NaN\"] else 0.0)\n",
    "    v[\"bonus_salary_ratio\"] = (float(bonus) / float(salary) if\n",
    "                         salary not in [0, \"NaN\"] and bonus\n",
    "                         not in [0, \"NaN\"] else 0.0)\n",
    "    v[\"bonus_ratio\"] = (float(bonus) / float(total_payments) if\n",
    "                         total_payments not in [0, \"NaN\"] and bonus\n",
    "                         not in [0, \"NaN\"] else 0.0)\n",
    "\n",
    "features_list.append(\"from_poi_ratio\")\n",
    "features_list.append(\"to_poi_ratio\")\n",
    "features_list.append(\"shared_poi_ratio\")\n",
    "features_list.append(\"bonus_salary_ratio\")\n",
    "features_list.append(\"bonus_ratio\")\n",
    "#print features_list\n",
    "features_list_all = features_list\n",
    "print features_list_all"
   ]
  },
  {
   "cell_type": "code",
   "execution_count": 168,
   "metadata": {
    "collapsed": false
   },
   "outputs": [],
   "source": [
    "# Re-orgnize dataset\n",
    "my_dataset = data_dict_cleaned\n",
    "data = featureFormat(my_dataset, features_list)\n",
    "labels, features = targetFeatureSplit(data)"
   ]
  },
  {
   "cell_type": "code",
   "execution_count": 169,
   "metadata": {
    "collapsed": false
   },
   "outputs": [
    {
     "name": "stdout",
     "output_type": "stream",
     "text": [
      "GaussianNB(priors=None)\n",
      "\tAccuracy: 0.74953\tPrecision: 0.23642\tRecall: 0.39400\tF1: 0.29552\tF2: 0.34766\n",
      "\tTotal predictions: 15000\tTrue positives:  788\tFalse positives: 2545\tFalse negatives: 1212\tTrue negatives: 10455\n",
      "\n"
     ]
    }
   ],
   "source": [
    "# Test on Naive Bayes\n",
    "clf = GaussianNB()\n",
    "tester.dump_classifier_and_data(clf,my_dataset,features_list)\n",
    "tester.main();"
   ]
  },
  {
   "cell_type": "code",
   "execution_count": 170,
   "metadata": {
    "collapsed": false
   },
   "outputs": [
    {
     "name": "stdout",
     "output_type": "stream",
     "text": [
      "DecisionTreeClassifier(class_weight=None, criterion='gini', max_depth=None,\n",
      "            max_features=None, max_leaf_nodes=None,\n",
      "            min_impurity_decrease=0.0, min_impurity_split=None,\n",
      "            min_samples_leaf=1, min_samples_split=2,\n",
      "            min_weight_fraction_leaf=0.0, presort=False, random_state=None,\n",
      "            splitter='best')\n",
      "\tAccuracy: 0.89727\tPrecision: 0.61446\tRecall: 0.61600\tF1: 0.61523\tF2: 0.61569\n",
      "\tTotal predictions: 15000\tTrue positives: 1232\tFalse positives:  773\tFalse negatives:  768\tTrue negatives: 12227\n",
      "\n"
     ]
    }
   ],
   "source": [
    "# Test on Decision Tree Classifier\n",
    "clf = DecisionTreeClassifier()\n",
    "tester.dump_classifier_and_data(clf,my_dataset,features_list)\n",
    "tester.main();"
   ]
  },
  {
   "cell_type": "code",
   "execution_count": 171,
   "metadata": {
    "collapsed": false
   },
   "outputs": [
    {
     "name": "stdout",
     "output_type": "stream",
     "text": [
      "Decision Tree Feature Importance: \n",
      "\n",
      "to_poi_ratio:0.3469\n",
      "shared_receipt_with_poi:0.2675\n",
      "expenses:0.1680\n",
      "other:0.1563\n",
      "from_poi_ratio:0.0612\n",
      "bonus:0.0000\n",
      "salary:0.0000\n",
      "deferral_payments:0.0000\n",
      "deferred_income:0.0000\n",
      "director_fees:0.0000\n"
     ]
    }
   ],
   "source": [
    "# Feature selection\n",
    "\n",
    "# Get feature importance of the DecisionTree Classifier\n",
    "clf.fit(features, labels)\n",
    "tree_feature_importances = clf.feature_importances_\n",
    "tree_features = zip(tree_feature_importances, features_list[1:])\n",
    "tree_features = sorted(tree_features, key = lambda x:x[0], reverse = True)\n",
    "\n",
    "print('Decision Tree Feature Importance: \\n')\n",
    "for i in range(10):\n",
    "    print ('{}:{:.4f}'.format(tree_features[i][1], tree_features[i][0]))"
   ]
  },
  {
   "cell_type": "code",
   "execution_count": 176,
   "metadata": {
    "collapsed": false
   },
   "outputs": [
    {
     "name": "stdout",
     "output_type": "stream",
     "text": [
      "{'select_features__k': 20}\n"
     ]
    }
   ],
   "source": [
    "# Use GridSearchCV and SelectKBest to find the optimal number of features\n",
    "\n",
    "n_features = np.arange(1,len(features_list))\n",
    "\n",
    "pipe = Pipeline([\n",
    "        ('select_features',SelectKBest()),\n",
    "        ('classify',DecisionTreeClassifier())\n",
    "    ])\n",
    "\n",
    "param_grid = [\n",
    "    {'select_features__k': n_features}\n",
    "]\n",
    "\n",
    "tree_clf = GridSearchCV(pipe, param_grid = param_grid, scoring = 'f1', cv = 10)\n",
    "tree_clf.fit(features, labels)\n",
    "print tree_clf.best_params_"
   ]
  },
  {
   "cell_type": "code",
   "execution_count": 177,
   "metadata": {
    "collapsed": false
   },
   "outputs": [
    {
     "name": "stdout",
     "output_type": "stream",
     "text": [
      "Pipeline(memory=None,\n",
      "     steps=[('select_features', SelectKBest(k=20, score_func=<function f_classif at 0x10f4d1050>)), ('classify', DecisionTreeClassifier(class_weight=None, criterion='gini', max_depth=None,\n",
      "            max_features=None, max_leaf_nodes=None,\n",
      "            min_impurity_decrease=0.0, min_impurity_split=None,\n",
      "            min_samples_leaf=1, min_samples_split=2,\n",
      "            min_weight_fraction_leaf=0.0, presort=False, random_state=None,\n",
      "            splitter='best'))])\n"
     ]
    }
   ],
   "source": [
    "print tree_clf.best_estimator_"
   ]
  },
  {
   "cell_type": "code",
   "execution_count": 178,
   "metadata": {
    "collapsed": false
   },
   "outputs": [
    {
     "name": "stdout",
     "output_type": "stream",
     "text": [
      "Scores: \n",
      "\n",
      "from_poi_ratio:0.6771\n",
      "to_poi_ratio:0.6771\n",
      "total_payments:0.6644\n",
      "bonus_ratio:0.6644\n",
      "bonus_salary_ratio:0.6470\n",
      "restricted_stock:0.6042\n",
      "total_stock_value:0.5949\n",
      "shared_poi_ratio:0.5938\n",
      "to_messages:0.5729\n",
      "restricted_stock_deferred:0.5671\n",
      "shared_receipt_with_poi:0.5451\n",
      "other:0.4873\n",
      "long_term_incentive:0.4097\n",
      "loan_advances:0.3819\n",
      "director_fees:0.3127\n",
      "deferral_payments:0.2824\n",
      "expenses:0.2812\n",
      "from_messages:0.2049\n",
      "from_this_person_to_poi:0.1933\n",
      "from_poi_to_this_person:0.1910\n",
      "salary:0.1817\n",
      "deferred_income:0.1343\n",
      "bonus:0.1299\n",
      "exercised_stock_options:0.1169\n"
     ]
    }
   ],
   "source": [
    "scores = [x[1] for x in tree_clf.grid_scores_]\n",
    "features_scores = [x[0] for x in tree_clf.grid_scores_]\n",
    "scores = np.array(scores).reshape(len(n_features))\n",
    "\n",
    "scores_zip = zip(scores, features_list_all[1:])\n",
    "scores_sorted = sorted(scores_zip, key = lambda x:x[0], reverse = True)\n",
    "#print scores_sorted\n",
    "\n",
    "features_sorted = []\n",
    "features_sorted.append('poi')\n",
    "print('Scores: \\n')\n",
    "for i in range(len(n_features)):\n",
    "    print ('{}:{:.4f}'.format(scores_sorted[i][1], scores_sorted[i][0]))\n",
    "    features_sorted.append(scores_sorted[i][1])"
   ]
  },
  {
   "cell_type": "code",
   "execution_count": 179,
   "metadata": {
    "collapsed": false
   },
   "outputs": [
    {
     "name": "stdout",
     "output_type": "stream",
     "text": [
      "['poi', 'from_poi_ratio', 'to_poi_ratio', 'total_payments', 'bonus_ratio', 'bonus_salary_ratio', 'restricted_stock', 'total_stock_value', 'shared_poi_ratio', 'to_messages', 'restricted_stock_deferred', 'shared_receipt_with_poi', 'other', 'long_term_incentive', 'loan_advances', 'director_fees', 'deferral_payments', 'expenses', 'from_messages', 'from_this_person_to_poi', 'from_poi_to_this_person', 'salary']\n"
     ]
    }
   ],
   "source": [
    "print features_sorted[:22]"
   ]
  },
  {
   "cell_type": "code",
   "execution_count": 180,
   "metadata": {
    "collapsed": false
   },
   "outputs": [
    {
     "name": "stdout",
     "output_type": "stream",
     "text": [
      "22\n",
      "DecisionTreeClassifier(class_weight=None, criterion='gini', max_depth=None,\n",
      "            max_features=None, max_leaf_nodes=None,\n",
      "            min_impurity_decrease=0.0, min_impurity_split=None,\n",
      "            min_samples_leaf=1, min_samples_split=2,\n",
      "            min_weight_fraction_leaf=0.0, presort=False, random_state=None,\n",
      "            splitter='best')\n",
      "\tAccuracy: 0.89760\tPrecision: 0.61406\tRecall: 0.62450\tF1: 0.61924\tF2: 0.62238\n",
      "\tTotal predictions: 15000\tTrue positives: 1249\tFalse positives:  785\tFalse negatives:  751\tTrue negatives: 12215\n",
      "\n"
     ]
    }
   ],
   "source": [
    "features_list = features_sorted[:22]\n",
    "\n",
    "print len(features_list)\n",
    "clf = DecisionTreeClassifier()\n",
    "tester.dump_classifier_and_data(clf,my_dataset,features_list)\n",
    "tester.main();"
   ]
  },
  {
   "cell_type": "code",
   "execution_count": 135,
   "metadata": {
    "collapsed": false
   },
   "outputs": [
    {
     "name": "stdout",
     "output_type": "stream",
     "text": [
      "['poi', 'expenses', 'other', 'exercised_stock_options', 'to_poi_ratio', 'shared_receipt_with_poi']\n",
      "DecisionTreeClassifier(class_weight=None, criterion='gini', max_depth=None,\n",
      "            max_features=None, max_leaf_nodes=None,\n",
      "            min_impurity_decrease=0.0, min_impurity_split=None,\n",
      "            min_samples_leaf=1, min_samples_split=2,\n",
      "            min_weight_fraction_leaf=0.0, presort=False, random_state=None,\n",
      "            splitter='best')\n",
      "\tAccuracy: 0.91727\tPrecision: 0.69572\tRecall: 0.67450\tF1: 0.68495\tF2: 0.67864\n",
      "\tTotal predictions: 15000\tTrue positives: 1349\tFalse positives:  590\tFalse negatives:  651\tTrue negatives: 12410\n",
      "\n"
     ]
    }
   ],
   "source": [
    "features_list = []\n",
    "features_list.append(\"poi\")\n",
    "features_list.append(\"expenses\")\n",
    "features_list.append(\"other\")\n",
    "features_list.append(\"exercised_stock_options\")\n",
    "features_list.append(\"to_poi_ratio\")\n",
    "features_list.append(\"shared_receipt_with_poi\")\n",
    "\n",
    "    \n",
    "print features_list\n",
    "\n",
    "clf = DecisionTreeClassifier()\n",
    "tester.dump_classifier_and_data(clf,my_dataset,features_list)\n",
    "tester.main();"
   ]
  },
  {
   "cell_type": "code",
   "execution_count": 181,
   "metadata": {
    "collapsed": false
   },
   "outputs": [
    {
     "name": "stdout",
     "output_type": "stream",
     "text": [
      "['poi', 'expenses', 'other', 'from_poi_ratio', 'to_poi_ratio', 'shared_receipt_with_poi']\n",
      "DecisionTreeClassifier(class_weight=None, criterion='gini', max_depth=None,\n",
      "            max_features=None, max_leaf_nodes=None,\n",
      "            min_impurity_decrease=0.0, min_impurity_split=None,\n",
      "            min_samples_leaf=1, min_samples_split=2,\n",
      "            min_weight_fraction_leaf=0.0, presort=False, random_state=None,\n",
      "            splitter='best')\n",
      "\tAccuracy: 0.91447\tPrecision: 0.67582\tRecall: 0.68900\tF1: 0.68235\tF2: 0.68632\n",
      "\tTotal predictions: 15000\tTrue positives: 1378\tFalse positives:  661\tFalse negatives:  622\tTrue negatives: 12339\n",
      "\n"
     ]
    }
   ],
   "source": [
    "features_list = []\n",
    "features_list.append(\"poi\")\n",
    "features_list.append(\"expenses\")\n",
    "features_list.append(\"other\")\n",
    "features_list.append(\"from_poi_ratio\")\n",
    "features_list.append(\"to_poi_ratio\")\n",
    "features_list.append(\"shared_receipt_with_poi\")\n",
    "\n",
    "    \n",
    "print features_list\n",
    "\n",
    "clf = DecisionTreeClassifier()\n",
    "tester.dump_classifier_and_data(clf,my_dataset,features_list)\n",
    "tester.main();"
   ]
  },
  {
   "cell_type": "code",
   "execution_count": 182,
   "metadata": {
    "collapsed": false
   },
   "outputs": [
    {
     "name": "stdout",
     "output_type": "stream",
     "text": [
      "['poi', 'deferred_income', 'exercised_stock_options', 'director_fees', 'to_poi_ratio', 'bonus_salary_ratio']\n",
      "DecisionTreeClassifier(class_weight=None, criterion='gini', max_depth=None,\n",
      "            max_features=None, max_leaf_nodes=None,\n",
      "            min_impurity_decrease=0.0, min_impurity_split=None,\n",
      "            min_samples_leaf=1, min_samples_split=2,\n",
      "            min_weight_fraction_leaf=0.0, presort=False, random_state=None,\n",
      "            splitter='best')\n",
      "\tAccuracy: 0.85607\tPrecision: 0.45065\tRecall: 0.36300\tF1: 0.40210\tF2: 0.37769\n",
      "\tTotal predictions: 15000\tTrue positives:  726\tFalse positives:  885\tFalse negatives: 1274\tTrue negatives: 12115\n",
      "\n"
     ]
    }
   ],
   "source": [
    "features_list = []\n",
    "features_list.append(\"poi\")\n",
    "features_list.append(\"deferred_income\")\n",
    "features_list.append(\"exercised_stock_options\")\n",
    "features_list.append(\"director_fees\")\n",
    "features_list.append(\"to_poi_ratio\")\n",
    "features_list.append(\"bonus_salary_ratio\")\n",
    "\n",
    "print features_list\n",
    "\n",
    "clf = DecisionTreeClassifier()\n",
    "tester.dump_classifier_and_data(clf,my_dataset,features_list)\n",
    "tester.main();"
   ]
  },
  {
   "cell_type": "code",
   "execution_count": 183,
   "metadata": {
    "collapsed": false
   },
   "outputs": [
    {
     "name": "stdout",
     "output_type": "stream",
     "text": [
      "{'classify__max_features': None, 'classify__splitter': 'best', 'classify__min_samples_split': 4, 'classify__criterion': 'entropy', 'classify__max_depth': None}\n"
     ]
    }
   ],
   "source": [
    "features_list = features_sorted[:22]\n",
    "\n",
    "my_dataset = data_dict_cleaned\n",
    "data = featureFormat(my_dataset, features_list)\n",
    "labels, features = targetFeatureSplit(data)\n",
    "\n",
    "tree_pipe = Pipeline([\n",
    "        ('select_features',SelectKBest(k=20)),\n",
    "        ('classify',DecisionTreeClassifier())\n",
    "    ]\n",
    ")\n",
    "\n",
    "param_grid = {'classify__criterion' : ('gini','entropy'),\n",
    "              'classify__splitter' : ('best','random'),\n",
    "              'classify__max_depth' : (None, 5, 10, 15, 20),\n",
    "              'classify__min_samples_split' : (2,4,6,8,10,20),\n",
    "              'classify__max_features' : (None, 'sqrt', 'auto', 'log2')}\n",
    "\n",
    "\n",
    "tree_clf = GridSearchCV(tree_pipe, param_grid, scoring = 'recall', cv = 10)\n",
    "tree_clf.fit(features, labels)\n",
    "print tree_clf.best_params_"
   ]
  },
  {
   "cell_type": "code",
   "execution_count": 185,
   "metadata": {
    "collapsed": false
   },
   "outputs": [
    {
     "name": "stdout",
     "output_type": "stream",
     "text": [
      "Pipeline(memory=None,\n",
      "     steps=[('select_features', SelectKBest(k=20, score_func=<function f_classif at 0x10f4d1050>)), ('classify', DecisionTreeClassifier(class_weight=None, criterion='entropy', max_depth=None,\n",
      "            max_features=None, max_leaf_nodes=None,\n",
      "            min_impurity_decrease=0.0, min_impurity_split=None,\n",
      "            min_samples_leaf=1, min_samples_split=4,\n",
      "            min_weight_fraction_leaf=0.0, presort=False, random_state=None,\n",
      "            splitter='best'))])\n",
      "\tAccuracy: 0.90580\tPrecision: 0.63930\tRecall: 0.67350\tF1: 0.65595\tF2: 0.66637\n",
      "\tTotal predictions: 15000\tTrue positives: 1347\tFalse positives:  760\tFalse negatives:  653\tTrue negatives: 12240\n",
      "\n"
     ]
    }
   ],
   "source": [
    "tree_clf = Pipeline([\n",
    "        ('select_features',SelectKBest(k=20)),\n",
    "        ('classify',DecisionTreeClassifier(max_features = None, splitter='best', min_samples_split=4, criterion='entropy',\n",
    "                                          max_depth = None))\n",
    "    ]\n",
    ")\n",
    "\n",
    "\n",
    "#tree_clf = DecisionTreeClassifier()\n",
    "tester.dump_classifier_and_data(tree_clf,my_dataset,features_list)\n",
    "tester.main();"
   ]
  },
  {
   "cell_type": "code",
   "execution_count": null,
   "metadata": {
    "collapsed": true
   },
   "outputs": [],
   "source": []
  }
 ],
 "metadata": {
  "kernelspec": {
   "display_name": "Python 2",
   "language": "python",
   "name": "python2"
  },
  "language_info": {
   "codemirror_mode": {
    "name": "ipython",
    "version": 2
   },
   "file_extension": ".py",
   "mimetype": "text/x-python",
   "name": "python",
   "nbconvert_exporter": "python",
   "pygments_lexer": "ipython2",
   "version": "2.7.11"
  }
 },
 "nbformat": 4,
 "nbformat_minor": 0
}
